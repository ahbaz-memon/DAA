{
 "cells": [
  {
   "cell_type": "code",
   "execution_count": 24,
   "metadata": {},
   "outputs": [],
   "source": [
    "def knapSack(W, wt, val, n):\n",
    "    K = [[0 for x in range(W + 1)] for x in range(n + 1)]\n",
    "\n",
    "    for i in range(n + 1):\n",
    "        for w in range(W + 1):\n",
    "            if i == 0 or w == 0:\n",
    "                K[i][w] = 0\n",
    "            elif wt[i-1] <= w:\n",
    "                K[i][w] = max(val[i-1] + K[i-1][w-wt[i-1]], K[i-1][w])\n",
    "            else:\n",
    "                K[i][w] = K[i-1][w]\n",
    "    return K[n][W], K          "
   ]
  },
  {
   "cell_type": "code",
   "execution_count": 27,
   "metadata": {},
   "outputs": [
    {
     "name": "stdout",
     "output_type": "stream",
     "text": [
      "score is : 8\n",
      "0  0  0  0  0  0  0  0  0  \n",
      "0  0  1  1  1  1  1  1  1  \n",
      "0  0  1  2  2  3  3  3  3  \n",
      "0  0  1  2  5  5  6  7  7  \n",
      "0  0  1  2  5  6  6  7  8  \n"
     ]
    }
   ],
   "source": [
    "val = [1,2,5,6]\n",
    "wt = [2,3,4,5]\n",
    "W = 8\n",
    "n = len(val)\n",
    "score, K = knapSack(W, wt, val, n)\n",
    "print(\"score is :\",score)\n",
    "for row in K:\n",
    "    for e in row:\n",
    "        print(e, end = '  ')\n",
    "    print()"
   ]
  },
  {
   "cell_type": "code",
   "execution_count": null,
   "metadata": {},
   "outputs": [],
   "source": []
  }
 ],
 "metadata": {
  "kernelspec": {
   "display_name": "Python [conda env:tensorflow_2] *",
   "language": "python",
   "name": "conda-env-tensorflow_2-py"
  },
  "language_info": {
   "codemirror_mode": {
    "name": "ipython",
    "version": 3
   },
   "file_extension": ".py",
   "mimetype": "text/x-python",
   "name": "python",
   "nbconvert_exporter": "python",
   "pygments_lexer": "ipython3",
   "version": "3.7.9"
  }
 },
 "nbformat": 4,
 "nbformat_minor": 4
}
