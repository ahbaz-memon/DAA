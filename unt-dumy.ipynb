{
 "cells": [
  {
   "cell_type": "code",
   "execution_count": 32,
   "metadata": {},
   "outputs": [],
   "source": [
    "def display_board(board):\n",
    "    for row in board:\n",
    "        for e in row:\n",
    "            print(e, end = '    ')\n",
    "        print('\\n')"
   ]
  },
  {
   "cell_type": "code",
   "execution_count": 33,
   "metadata": {},
   "outputs": [],
   "source": [
    "def is_safe(board, x, y, n):\n",
    "    #upper column\n",
    "    for row in range(x - 1, -1, -1):\n",
    "        if board[row][y] == 1:\n",
    "            return False\n",
    "    \n",
    "    # upper left diagonal\n",
    "    row  = x - 1\n",
    "    column = y - 1\n",
    "    while row >=0 and column >=0:\n",
    "        if board[row][column] == 1:\n",
    "            return False\n",
    "        row -= 1\n",
    "        column -= 1\n",
    "    \n",
    "    # upper right diagonal\n",
    "    row = x - 1\n",
    "    column = y + 1\n",
    "    while row >= 0 and column < n:\n",
    "        if board[row][column] == 1:\n",
    "            return False\n",
    "        row -= 1\n",
    "        column += 1\n",
    "    \n",
    "    return True"
   ]
  },
  {
   "cell_type": "code",
   "execution_count": 34,
   "metadata": {},
   "outputs": [],
   "source": [
    "def solveNQ(board, col, N):\n",
    "    if col >= N:\n",
    "        return True\n",
    "    for i in range(N):\n",
    "        if is_safe(board, i, col, N):\n",
    "            board[i][col] = 1\n",
    "            if solveNQ(board, col + 1, N) == True:\n",
    "                return True\n",
    "            board[i][col] = 0\n",
    "    return False"
   ]
  },
  {
   "cell_type": "code",
   "execution_count": 35,
   "metadata": {},
   "outputs": [],
   "source": [
    "def solveNQ_main(board, n):\n",
    "    if solveNQ(board, 0, n) == False:\n",
    "        print(\"Solution does not exist\")\n",
    "        return False\n",
    "    display_board(board)\n",
    "    return True"
   ]
  },
  {
   "cell_type": "code",
   "execution_count": 36,
   "metadata": {},
   "outputs": [
    {
     "name": "stdout",
     "output_type": "stream",
     "text": [
      "Enter the number of Queen's for board -> 4\n"
     ]
    }
   ],
   "source": [
    "n = int(input(\"Enter the number of Queen's for board -> \"))"
   ]
  },
  {
   "cell_type": "code",
   "execution_count": 37,
   "metadata": {},
   "outputs": [],
   "source": [
    "board = [[0] * n] * n"
   ]
  },
  {
   "cell_type": "code",
   "execution_count": 38,
   "metadata": {},
   "outputs": [
    {
     "name": "stdout",
     "output_type": "stream",
     "text": [
      "0    0    0    0    \n",
      "\n",
      "0    0    0    0    \n",
      "\n",
      "0    0    0    0    \n",
      "\n",
      "0    0    0    0    \n",
      "\n"
     ]
    }
   ],
   "source": [
    "display_board(board)"
   ]
  },
  {
   "cell_type": "code",
   "execution_count": 39,
   "metadata": {},
   "outputs": [
    {
     "name": "stdout",
     "output_type": "stream",
     "text": [
      "1    1    1    1    \n",
      "\n",
      "1    1    1    1    \n",
      "\n",
      "1    1    1    1    \n",
      "\n",
      "1    1    1    1    \n",
      "\n"
     ]
    },
    {
     "data": {
      "text/plain": [
       "True"
      ]
     },
     "execution_count": 39,
     "metadata": {},
     "output_type": "execute_result"
    }
   ],
   "source": [
    "solveNQ_main(board, n)"
   ]
  },
  {
   "cell_type": "code",
   "execution_count": null,
   "metadata": {},
   "outputs": [],
   "source": []
  }
 ],
 "metadata": {
  "kernelspec": {
   "display_name": "Python [conda env:tensorflow_2] *",
   "language": "python",
   "name": "conda-env-tensorflow_2-py"
  },
  "language_info": {
   "codemirror_mode": {
    "name": "ipython",
    "version": 3
   },
   "file_extension": ".py",
   "mimetype": "text/x-python",
   "name": "python",
   "nbconvert_exporter": "python",
   "pygments_lexer": "ipython3",
   "version": "3.7.9"
  }
 },
 "nbformat": 4,
 "nbformat_minor": 4
}
